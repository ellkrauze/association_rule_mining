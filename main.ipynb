{
 "cells": [
  {
   "cell_type": "code",
   "execution_count": 1,
   "metadata": {},
   "outputs": [],
   "source": [
    "import pandas as pd\n",
    "import numpy as np\n",
    "from apyori import apriori\n",
    "import os"
   ]
  },
  {
   "cell_type": "code",
   "execution_count": 7,
   "metadata": {},
   "outputs": [],
   "source": [
    "from mlxtend.frequent_patterns import apriori\n",
    "from mlxtend.frequent_patterns import association_rules"
   ]
  },
  {
   "cell_type": "code",
   "execution_count": 25,
   "metadata": {},
   "outputs": [],
   "source": [
    "# for visualizations\n",
    "import matplotlib.pyplot as plt\n",
    "import squarify\n",
    "import seaborn as sns\n",
    "plt.style.use('fivethirtyeight')"
   ]
  },
  {
   "cell_type": "code",
   "execution_count": 62,
   "metadata": {},
   "outputs": [],
   "source": [
    "df = pd.read_csv(os.path.join('datasets', 'retail.dat'), sep=\" \", on_bad_lines='skip', dtype='Int32') # , header=None"
   ]
  },
  {
   "cell_type": "code",
   "execution_count": 63,
   "metadata": {},
   "outputs": [],
   "source": [
    "df.fillna(0,inplace=True)\n",
    "df = df[0:1000]"
   ]
  },
  {
   "cell_type": "code",
   "execution_count": null,
   "metadata": {},
   "outputs": [],
   "source": [
    "df.info()"
   ]
  },
  {
   "cell_type": "code",
   "execution_count": 65,
   "metadata": {},
   "outputs": [
    {
     "data": {
      "text/plain": [
       "(1000, 31)"
      ]
     },
     "execution_count": 65,
     "metadata": {},
     "output_type": "execute_result"
    }
   ],
   "source": [
    "df.shape"
   ]
  },
  {
   "cell_type": "code",
   "execution_count": 19,
   "metadata": {},
   "outputs": [],
   "source": [
    "# for using apriori we need to convert data in list format\n",
    "observations = df.values.tolist()"
   ]
  },
  {
   "cell_type": "code",
   "execution_count": 20,
   "metadata": {},
   "outputs": [],
   "source": [
    "def encode_units(x):\n",
    "    if x <= 0:\n",
    "        return 0\n",
    "    if x >= 1:\n",
    "        return 1"
   ]
  },
  {
   "cell_type": "code",
   "execution_count": 66,
   "metadata": {},
   "outputs": [],
   "source": [
    "basket_sets = df.applymap(encode_units)\n",
    "basket_sets"
   ]
  },
  {
   "cell_type": "code",
   "execution_count": 68,
   "metadata": {},
   "outputs": [
    {
     "ename": "ValueError",
     "evalue": "The allowed values for a DataFrame are True, False, 0, 1. Found value 30",
     "output_type": "error",
     "traceback": [
      "\u001b[1;31m---------------------------------------------------------------------------\u001b[0m",
      "\u001b[1;31mValueError\u001b[0m                                Traceback (most recent call last)",
      "\u001b[1;32md:\\projects\\association_rule_mining\\main.ipynb Cell 11'\u001b[0m in \u001b[0;36m<module>\u001b[1;34m\u001b[0m\n\u001b[0;32m      <a href='vscode-notebook-cell:/d%3A/projects/association_rule_mining/main.ipynb#ch0000016?line=0'>1</a>\u001b[0m \u001b[39m#Now, let us return the items and itemsets with at least 5% support:\u001b[39;00m\n\u001b[1;32m----> <a href='vscode-notebook-cell:/d%3A/projects/association_rule_mining/main.ipynb#ch0000016?line=1'>2</a>\u001b[0m apriori(df, min_support \u001b[39m=\u001b[39;49m \u001b[39m0.01\u001b[39;49m, use_colnames \u001b[39m=\u001b[39;49m \u001b[39mTrue\u001b[39;49;00m)\n",
      "File \u001b[1;32m~\\AppData\\Local\\Packages\\PythonSoftwareFoundation.Python.3.9_qbz5n2kfra8p0\\LocalCache\\local-packages\\Python39\\site-packages\\mlxtend\\frequent_patterns\\apriori.py:238\u001b[0m, in \u001b[0;36mapriori\u001b[1;34m(df, min_support, use_colnames, max_len, verbose, low_memory)\u001b[0m\n\u001b[0;32m    <a href='file:///~/AppData/Local/Packages/PythonSoftwareFoundation.Python.3.9_qbz5n2kfra8p0/LocalCache/local-packages/Python39/site-packages/mlxtend/frequent_patterns/apriori.py?line=232'>233</a>\u001b[0m \u001b[39mif\u001b[39;00m min_support \u001b[39m<\u001b[39m\u001b[39m=\u001b[39m \u001b[39m0.\u001b[39m:\n\u001b[0;32m    <a href='file:///~/AppData/Local/Packages/PythonSoftwareFoundation.Python.3.9_qbz5n2kfra8p0/LocalCache/local-packages/Python39/site-packages/mlxtend/frequent_patterns/apriori.py?line=233'>234</a>\u001b[0m     \u001b[39mraise\u001b[39;00m \u001b[39mValueError\u001b[39;00m(\u001b[39m'\u001b[39m\u001b[39m`min_support` must be a positive \u001b[39m\u001b[39m'\u001b[39m\n\u001b[0;32m    <a href='file:///~/AppData/Local/Packages/PythonSoftwareFoundation.Python.3.9_qbz5n2kfra8p0/LocalCache/local-packages/Python39/site-packages/mlxtend/frequent_patterns/apriori.py?line=234'>235</a>\u001b[0m                      \u001b[39m'\u001b[39m\u001b[39mnumber within the interval `(0, 1]`. \u001b[39m\u001b[39m'\u001b[39m\n\u001b[0;32m    <a href='file:///~/AppData/Local/Packages/PythonSoftwareFoundation.Python.3.9_qbz5n2kfra8p0/LocalCache/local-packages/Python39/site-packages/mlxtend/frequent_patterns/apriori.py?line=235'>236</a>\u001b[0m                      \u001b[39m'\u001b[39m\u001b[39mGot \u001b[39m\u001b[39m%s\u001b[39;00m\u001b[39m.\u001b[39m\u001b[39m'\u001b[39m \u001b[39m%\u001b[39m min_support)\n\u001b[1;32m--> <a href='file:///~/AppData/Local/Packages/PythonSoftwareFoundation.Python.3.9_qbz5n2kfra8p0/LocalCache/local-packages/Python39/site-packages/mlxtend/frequent_patterns/apriori.py?line=237'>238</a>\u001b[0m fpc\u001b[39m.\u001b[39;49mvalid_input_check(df)\n\u001b[0;32m    <a href='file:///~/AppData/Local/Packages/PythonSoftwareFoundation.Python.3.9_qbz5n2kfra8p0/LocalCache/local-packages/Python39/site-packages/mlxtend/frequent_patterns/apriori.py?line=239'>240</a>\u001b[0m \u001b[39mif\u001b[39;00m \u001b[39mhasattr\u001b[39m(df, \u001b[39m\"\u001b[39m\u001b[39msparse\u001b[39m\u001b[39m\"\u001b[39m):\n\u001b[0;32m    <a href='file:///~/AppData/Local/Packages/PythonSoftwareFoundation.Python.3.9_qbz5n2kfra8p0/LocalCache/local-packages/Python39/site-packages/mlxtend/frequent_patterns/apriori.py?line=240'>241</a>\u001b[0m     \u001b[39m# DataFrame with SparseArray (pandas >= 0.24)\u001b[39;00m\n\u001b[0;32m    <a href='file:///~/AppData/Local/Packages/PythonSoftwareFoundation.Python.3.9_qbz5n2kfra8p0/LocalCache/local-packages/Python39/site-packages/mlxtend/frequent_patterns/apriori.py?line=241'>242</a>\u001b[0m     \u001b[39mif\u001b[39;00m df\u001b[39m.\u001b[39msize \u001b[39m==\u001b[39m \u001b[39m0\u001b[39m:\n",
      "File \u001b[1;32m~\\AppData\\Local\\Packages\\PythonSoftwareFoundation.Python.3.9_qbz5n2kfra8p0\\LocalCache\\local-packages\\Python39\\site-packages\\mlxtend\\frequent_patterns\\fpcommon.py:116\u001b[0m, in \u001b[0;36mvalid_input_check\u001b[1;34m(df)\u001b[0m\n\u001b[0;32m    <a href='file:///~/AppData/Local/Packages/PythonSoftwareFoundation.Python.3.9_qbz5n2kfra8p0/LocalCache/local-packages/Python39/site-packages/mlxtend/frequent_patterns/fpcommon.py?line=112'>113</a>\u001b[0m val \u001b[39m=\u001b[39m values[\u001b[39mtuple\u001b[39m(loc[\u001b[39m0\u001b[39m] \u001b[39mfor\u001b[39;00m loc \u001b[39min\u001b[39;00m idxs)]\n\u001b[0;32m    <a href='file:///~/AppData/Local/Packages/PythonSoftwareFoundation.Python.3.9_qbz5n2kfra8p0/LocalCache/local-packages/Python39/site-packages/mlxtend/frequent_patterns/fpcommon.py?line=113'>114</a>\u001b[0m s \u001b[39m=\u001b[39m (\u001b[39m'\u001b[39m\u001b[39mThe allowed values for a DataFrame\u001b[39m\u001b[39m'\u001b[39m\n\u001b[0;32m    <a href='file:///~/AppData/Local/Packages/PythonSoftwareFoundation.Python.3.9_qbz5n2kfra8p0/LocalCache/local-packages/Python39/site-packages/mlxtend/frequent_patterns/fpcommon.py?line=114'>115</a>\u001b[0m      \u001b[39m'\u001b[39m\u001b[39m are True, False, 0, 1. Found value \u001b[39m\u001b[39m%s\u001b[39;00m\u001b[39m'\u001b[39m \u001b[39m%\u001b[39m (val))\n\u001b[1;32m--> <a href='file:///~/AppData/Local/Packages/PythonSoftwareFoundation.Python.3.9_qbz5n2kfra8p0/LocalCache/local-packages/Python39/site-packages/mlxtend/frequent_patterns/fpcommon.py?line=115'>116</a>\u001b[0m \u001b[39mraise\u001b[39;00m \u001b[39mValueError\u001b[39;00m(s)\n",
      "\u001b[1;31mValueError\u001b[0m: The allowed values for a DataFrame are True, False, 0, 1. Found value 30"
     ]
    }
   ],
   "source": [
    "#Now, let us return the items and itemsets with at least 5% support:\n",
    "apriori(basket_sets, min_support = 0.01, use_colnames = True)"
   ]
  },
  {
   "cell_type": "code",
   "execution_count": 22,
   "metadata": {},
   "outputs": [
    {
     "ename": "MemoryError",
     "evalue": "Unable to allocate 64.9 GiB for an array with shape (20349, 5, 85548) and data type int64",
     "output_type": "error",
     "traceback": [
      "\u001b[1;31m---------------------------------------------------------------------------\u001b[0m",
      "\u001b[1;31mMemoryError\u001b[0m                               Traceback (most recent call last)",
      "\u001b[1;32md:\\projects\\association_rule_mining\\main.ipynb Cell 8'\u001b[0m in \u001b[0;36m<module>\u001b[1;34m\u001b[0m\n\u001b[1;32m----> <a href='vscode-notebook-cell:/d%3A/projects/association_rule_mining/main.ipynb#ch0000004?line=0'>1</a>\u001b[0m frequent_itemsets \u001b[39m=\u001b[39m apriori(basket_sets, min_support\u001b[39m=\u001b[39;49m\u001b[39m0.07\u001b[39;49m, use_colnames\u001b[39m=\u001b[39;49m\u001b[39mTrue\u001b[39;49;00m)\n\u001b[0;32m      <a href='vscode-notebook-cell:/d%3A/projects/association_rule_mining/main.ipynb#ch0000004?line=1'>2</a>\u001b[0m rules \u001b[39m=\u001b[39m association_rules(frequent_itemsets, metric\u001b[39m=\u001b[39m\u001b[39m\"\u001b[39m\u001b[39mlift\u001b[39m\u001b[39m\"\u001b[39m, min_threshold\u001b[39m=\u001b[39m\u001b[39m1\u001b[39m)\n\u001b[0;32m      <a href='vscode-notebook-cell:/d%3A/projects/association_rule_mining/main.ipynb#ch0000004?line=2'>3</a>\u001b[0m rules\u001b[39m.\u001b[39mhead()\n",
      "File \u001b[1;32m~\\AppData\\Local\\Packages\\PythonSoftwareFoundation.Python.3.9_qbz5n2kfra8p0\\LocalCache\\local-packages\\Python39\\site-packages\\mlxtend\\frequent_patterns\\apriori.py:302\u001b[0m, in \u001b[0;36mapriori\u001b[1;34m(df, min_support, use_colnames, max_len, verbose, low_memory)\u001b[0m\n\u001b[0;32m    <a href='file:///~/AppData/Local/Packages/PythonSoftwareFoundation.Python.3.9_qbz5n2kfra8p0/LocalCache/local-packages/Python39/site-packages/mlxtend/frequent_patterns/apriori.py?line=299'>300</a>\u001b[0m         _bools \u001b[39m=\u001b[39m _bools \u001b[39m&\u001b[39m (X[:, combin[:, n]] \u001b[39m==\u001b[39m all_ones)\n\u001b[0;32m    <a href='file:///~/AppData/Local/Packages/PythonSoftwareFoundation.Python.3.9_qbz5n2kfra8p0/LocalCache/local-packages/Python39/site-packages/mlxtend/frequent_patterns/apriori.py?line=300'>301</a>\u001b[0m \u001b[39melse\u001b[39;00m:\n\u001b[1;32m--> <a href='file:///~/AppData/Local/Packages/PythonSoftwareFoundation.Python.3.9_qbz5n2kfra8p0/LocalCache/local-packages/Python39/site-packages/mlxtend/frequent_patterns/apriori.py?line=301'>302</a>\u001b[0m     _bools \u001b[39m=\u001b[39m np\u001b[39m.\u001b[39mall(X[:, combin], axis\u001b[39m=\u001b[39m\u001b[39m2\u001b[39m)\n\u001b[0;32m    <a href='file:///~/AppData/Local/Packages/PythonSoftwareFoundation.Python.3.9_qbz5n2kfra8p0/LocalCache/local-packages/Python39/site-packages/mlxtend/frequent_patterns/apriori.py?line=303'>304</a>\u001b[0m support \u001b[39m=\u001b[39m _support(np\u001b[39m.\u001b[39marray(_bools), rows_count, is_sparse)\n\u001b[0;32m    <a href='file:///~/AppData/Local/Packages/PythonSoftwareFoundation.Python.3.9_qbz5n2kfra8p0/LocalCache/local-packages/Python39/site-packages/mlxtend/frequent_patterns/apriori.py?line=304'>305</a>\u001b[0m _mask \u001b[39m=\u001b[39m (support \u001b[39m>\u001b[39m\u001b[39m=\u001b[39m min_support)\u001b[39m.\u001b[39mreshape(\u001b[39m-\u001b[39m\u001b[39m1\u001b[39m)\n",
      "\u001b[1;31mMemoryError\u001b[0m: Unable to allocate 64.9 GiB for an array with shape (20349, 5, 85548) and data type int64"
     ]
    }
   ],
   "source": [
    "frequent_itemsets = apriori(basket_sets, min_support=0.07, use_colnames=True)\n",
    "rules = association_rules(frequent_itemsets, metric=\"lift\", min_threshold=1)\n",
    "rules.head()"
   ]
  },
  {
   "cell_type": "code",
   "execution_count": null,
   "metadata": {},
   "outputs": [],
   "source": [
    "print(associations[0])"
   ]
  },
  {
   "cell_type": "code",
   "execution_count": null,
   "metadata": {},
   "outputs": [],
   "source": [
    "def find_frequent_itemset(data, minsup, mode):\n",
    "\n",
    "    # by passing minsup we mean the number of times in total number\n",
    "    # of transactions the item should be present\n",
    "    frequent_itemsets = apriori(data, min_support=minsup, use_colnames=True)\n",
    "    return"
   ]
  },
  {
   "cell_type": "code",
   "execution_count": null,
   "metadata": {},
   "outputs": [],
   "source": [
    "find_frequent_itemset(df, 0.01, \"descending\")"
   ]
  }
 ],
 "metadata": {
  "interpreter": {
   "hash": "dcf54b044ca9e8fc45e0b43406de43bea0ad89c58ce62bc925fe193d2238dfa4"
  },
  "kernelspec": {
   "display_name": "Python 3.10.2 64-bit (windows store)",
   "language": "python",
   "name": "python3"
  },
  "language_info": {
   "codemirror_mode": {
    "name": "ipython",
    "version": 3
   },
   "file_extension": ".py",
   "mimetype": "text/x-python",
   "name": "python",
   "nbconvert_exporter": "python",
   "pygments_lexer": "ipython3",
   "version": "3.9.10"
  },
  "orig_nbformat": 4
 },
 "nbformat": 4,
 "nbformat_minor": 2
}
