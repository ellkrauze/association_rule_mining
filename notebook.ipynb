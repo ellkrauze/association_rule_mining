{
 "cells": [
  {
   "cell_type": "code",
   "execution_count": 1,
   "metadata": {},
   "outputs": [],
   "source": [
    "import pandas as pd\n",
    "import numpy as np\n",
    "import os\n",
    "import csv\n",
    "import argparse\n",
    "from mlxtend.frequent_patterns import apriori\n",
    "from mlxtend.preprocessing import TransactionEncoder\n",
    "import timeit\n",
    "from memory_profiler import memory_usage"
   ]
  },
  {
   "cell_type": "code",
   "execution_count": 8,
   "metadata": {},
   "outputs": [],
   "source": [
    "def load_csv(path):\n",
    "    data = []\n",
    "    with open(os.path.join(path), 'r') as file:\n",
    "        reader = csv.reader(file, delimiter=',')\n",
    "        data = list(reader)\n",
    "        # data = list(filter(None, data))\n",
    "\n",
    "    for row in data:\n",
    "        while('' in row):\n",
    "            row.remove('')\n",
    "\n",
    "    # Transform the input dataset into a one-hot encoded NumPy boolean array\n",
    "    # te = TransactionEncoder()\n",
    "    # data = pd.DataFrame(te.fit(data).transform(data), columns=te.columns_)\n",
    "\n",
    "    return data"
   ]
  },
  {
   "cell_type": "code",
   "execution_count": 16,
   "metadata": {},
   "outputs": [
    {
     "name": "stderr",
     "output_type": "stream",
     "text": [
      "C:\\Users\\lerus\\AppData\\Local\\Temp\\ipykernel_18232\\1666700984.py:2: DtypeWarning: Columns (10) have mixed types. Specify dtype option on import or set low_memory=False.\n",
      "  movies_df = pd.read_csv('datasets/movies_metadata.csv')\n"
     ]
    }
   ],
   "source": [
    "ratings_df = pd.read_csv('datasets/ratings_small.csv')\n",
    "movies_df = pd.read_csv('datasets/movies_metadata.csv')\n",
    "title_mask = movies_df['title'].isna()\n",
    "movies_df = movies_df.loc[title_mask == False]\n",
    "movies_df = movies_df.astype({'id': 'int64'})\n",
    "df = pd.merge(ratings_df, movies_df[['id', 'title']], left_on='movieId', right_on='id')\n",
    "df.drop(['timestamp', 'id'], axis=1, inplace=True)\n",
    "df = df.drop_duplicates(['userId','title'])\n",
    "df_pivot = df.pivot(index='userId', columns='title', values='rating').fillna(0)\n",
    "df_pivot = df_pivot.astype('int64')\n",
    "def encode_ratings(x):\n",
    "    if x<=0:\n",
    "        return 0\n",
    "    if x>=1:\n",
    "        return 1\n",
    "\n",
    "df_pivot = df_pivot.applymap(encode_ratings)"
   ]
  },
  {
   "cell_type": "code",
   "execution_count": 20,
   "metadata": {},
   "outputs": [],
   "source": [
    "def find_frequent_itemset(data, minsup, mode=\"None\"):\n",
    "    # by passing minsup we mean the number of times in total number\n",
    "    # of transactions the item should be present\n",
    "    frequent_itemsets = apriori(data, min_support=minsup, use_colnames=True)\n",
    "\n",
    "    match mode:\n",
    "        case \"descending-support\":\n",
    "            return frequent_itemsets.sort_values(by=['support'], ascending=False)\n",
    "        case \"itemsets\":\n",
    "            return frequent_itemsets.sort_values(by=['itemsets'], ascending=True)\n",
    "        case _:\n",
    "            return frequent_itemsets"
   ]
  },
  {
   "cell_type": "code",
   "execution_count": 22,
   "metadata": {},
   "outputs": [
    {
     "ename": "ValueError",
     "evalue": "The allowed values for a DataFrame are True, False, 0, 1. Found value 1371",
     "output_type": "error",
     "traceback": [
      "\u001b[1;31m---------------------------------------------------------------------------\u001b[0m",
      "\u001b[1;31mValueError\u001b[0m                                Traceback (most recent call last)",
      "\u001b[1;32md:\\projects\\association_rule_mining\\notebook.ipynb Cell 5'\u001b[0m in \u001b[0;36m<module>\u001b[1;34m\u001b[0m\n\u001b[0;32m      <a href='vscode-notebook-cell:/d%3A/projects/association_rule_mining/notebook.ipynb#ch0000006?line=0'>1</a>\u001b[0m minsup \u001b[39m=\u001b[39m \u001b[39m0.1\u001b[39m\n\u001b[0;32m      <a href='vscode-notebook-cell:/d%3A/projects/association_rule_mining/notebook.ipynb#ch0000006?line=1'>2</a>\u001b[0m num_runs \u001b[39m=\u001b[39m \u001b[39m5\u001b[39m\n\u001b[1;32m----> <a href='vscode-notebook-cell:/d%3A/projects/association_rule_mining/notebook.ipynb#ch0000006?line=2'>3</a>\u001b[0m duration \u001b[39m=\u001b[39m timeit\u001b[39m.\u001b[39;49mTimer(\u001b[39m\"\u001b[39;49m\u001b[39mfind_frequent_itemset(df, minsup)\u001b[39;49m\u001b[39m\"\u001b[39;49m, \u001b[39mglobals\u001b[39;49m\u001b[39m=\u001b[39;49m\u001b[39mlocals\u001b[39;49m())\u001b[39m.\u001b[39;49mtimeit(number \u001b[39m=\u001b[39;49m num_runs)\n\u001b[0;32m      <a href='vscode-notebook-cell:/d%3A/projects/association_rule_mining/notebook.ipynb#ch0000006?line=3'>4</a>\u001b[0m avg_duration \u001b[39m=\u001b[39m duration\u001b[39m/\u001b[39mnum_runs\n\u001b[0;32m      <a href='vscode-notebook-cell:/d%3A/projects/association_rule_mining/notebook.ipynb#ch0000006?line=5'>6</a>\u001b[0m \u001b[39mprint\u001b[39m(find_frequent_itemset(df, minsup)\u001b[39m.\u001b[39msize)\n",
      "File \u001b[1;32mC:\\Program Files\\WindowsApps\\PythonSoftwareFoundation.Python.3.10_3.10.752.0_x64__qbz5n2kfra8p0\\lib\\timeit.py:178\u001b[0m, in \u001b[0;36mTimer.timeit\u001b[1;34m(self, number)\u001b[0m\n\u001b[0;32m    <a href='file:///c%3A/Program%20Files/WindowsApps/PythonSoftwareFoundation.Python.3.10_3.10.752.0_x64__qbz5n2kfra8p0/lib/timeit.py?line=175'>176</a>\u001b[0m gc\u001b[39m.\u001b[39mdisable()\n\u001b[0;32m    <a href='file:///c%3A/Program%20Files/WindowsApps/PythonSoftwareFoundation.Python.3.10_3.10.752.0_x64__qbz5n2kfra8p0/lib/timeit.py?line=176'>177</a>\u001b[0m \u001b[39mtry\u001b[39;00m:\n\u001b[1;32m--> <a href='file:///c%3A/Program%20Files/WindowsApps/PythonSoftwareFoundation.Python.3.10_3.10.752.0_x64__qbz5n2kfra8p0/lib/timeit.py?line=177'>178</a>\u001b[0m     timing \u001b[39m=\u001b[39m \u001b[39mself\u001b[39;49m\u001b[39m.\u001b[39;49minner(it, \u001b[39mself\u001b[39;49m\u001b[39m.\u001b[39;49mtimer)\n\u001b[0;32m    <a href='file:///c%3A/Program%20Files/WindowsApps/PythonSoftwareFoundation.Python.3.10_3.10.752.0_x64__qbz5n2kfra8p0/lib/timeit.py?line=178'>179</a>\u001b[0m \u001b[39mfinally\u001b[39;00m:\n\u001b[0;32m    <a href='file:///c%3A/Program%20Files/WindowsApps/PythonSoftwareFoundation.Python.3.10_3.10.752.0_x64__qbz5n2kfra8p0/lib/timeit.py?line=179'>180</a>\u001b[0m     \u001b[39mif\u001b[39;00m gcold:\n",
      "File \u001b[1;32m<timeit-src>:6\u001b[0m, in \u001b[0;36minner\u001b[1;34m(_it, _timer)\u001b[0m\n",
      "\u001b[1;32md:\\projects\\association_rule_mining\\notebook.ipynb Cell 4'\u001b[0m in \u001b[0;36mfind_frequent_itemset\u001b[1;34m(data, minsup, mode)\u001b[0m\n\u001b[0;32m      <a href='vscode-notebook-cell:/d%3A/projects/association_rule_mining/notebook.ipynb#ch0000009?line=0'>1</a>\u001b[0m \u001b[39mdef\u001b[39;00m \u001b[39mfind_frequent_itemset\u001b[39m(data, minsup, mode\u001b[39m=\u001b[39m\u001b[39m\"\u001b[39m\u001b[39mNone\u001b[39m\u001b[39m\"\u001b[39m):\n\u001b[0;32m      <a href='vscode-notebook-cell:/d%3A/projects/association_rule_mining/notebook.ipynb#ch0000009?line=1'>2</a>\u001b[0m     \u001b[39m# by passing minsup we mean the number of times in total number\u001b[39;00m\n\u001b[0;32m      <a href='vscode-notebook-cell:/d%3A/projects/association_rule_mining/notebook.ipynb#ch0000009?line=2'>3</a>\u001b[0m     \u001b[39m# of transactions the item should be present\u001b[39;00m\n\u001b[1;32m----> <a href='vscode-notebook-cell:/d%3A/projects/association_rule_mining/notebook.ipynb#ch0000009?line=3'>4</a>\u001b[0m     frequent_itemsets \u001b[39m=\u001b[39m apriori(data, min_support\u001b[39m=\u001b[39;49mminsup, use_colnames\u001b[39m=\u001b[39;49m\u001b[39mTrue\u001b[39;49;00m)\n\u001b[0;32m      <a href='vscode-notebook-cell:/d%3A/projects/association_rule_mining/notebook.ipynb#ch0000009?line=5'>6</a>\u001b[0m     \u001b[39mmatch\u001b[39;00m mode:\n\u001b[0;32m      <a href='vscode-notebook-cell:/d%3A/projects/association_rule_mining/notebook.ipynb#ch0000009?line=6'>7</a>\u001b[0m         \u001b[39mcase\u001b[39;00m \u001b[39m\"\u001b[39m\u001b[39mdescending-support\u001b[39m\u001b[39m\"\u001b[39m:\n\u001b[0;32m      <a href='vscode-notebook-cell:/d%3A/projects/association_rule_mining/notebook.ipynb#ch0000009?line=7'>8</a>\u001b[0m             \u001b[39mreturn\u001b[39;00m frequent_itemsets\u001b[39m.\u001b[39msort_values(by\u001b[39m=\u001b[39m[\u001b[39m'\u001b[39m\u001b[39msupport\u001b[39m\u001b[39m'\u001b[39m], ascending\u001b[39m=\u001b[39m\u001b[39mFalse\u001b[39;00m)\n\u001b[1;32m   (...)\u001b[0m\n\u001b[0;32m     <a href='vscode-notebook-cell:/d%3A/projects/association_rule_mining/notebook.ipynb#ch0000009?line=10'>11</a>\u001b[0m         \u001b[39mcase\u001b[39;00m \u001b[39m_\u001b[39;00m:\n\u001b[0;32m     <a href='vscode-notebook-cell:/d%3A/projects/association_rule_mining/notebook.ipynb#ch0000009?line=11'>12</a>\u001b[0m             \u001b[39mreturn\u001b[39;00m frequent_itemsets\n",
      "File \u001b[1;32m~\\AppData\\Local\\Packages\\PythonSoftwareFoundation.Python.3.10_qbz5n2kfra8p0\\LocalCache\\local-packages\\Python310\\site-packages\\mlxtend\\frequent_patterns\\apriori.py:238\u001b[0m, in \u001b[0;36mapriori\u001b[1;34m(df, min_support, use_colnames, max_len, verbose, low_memory)\u001b[0m\n\u001b[0;32m    <a href='file:///~/AppData/Local/Packages/PythonSoftwareFoundation.Python.3.10_qbz5n2kfra8p0/LocalCache/local-packages/Python310/site-packages/mlxtend/frequent_patterns/apriori.py?line=232'>233</a>\u001b[0m \u001b[39mif\u001b[39;00m min_support \u001b[39m<\u001b[39m\u001b[39m=\u001b[39m \u001b[39m0.\u001b[39m:\n\u001b[0;32m    <a href='file:///~/AppData/Local/Packages/PythonSoftwareFoundation.Python.3.10_qbz5n2kfra8p0/LocalCache/local-packages/Python310/site-packages/mlxtend/frequent_patterns/apriori.py?line=233'>234</a>\u001b[0m     \u001b[39mraise\u001b[39;00m \u001b[39mValueError\u001b[39;00m(\u001b[39m'\u001b[39m\u001b[39m`min_support` must be a positive \u001b[39m\u001b[39m'\u001b[39m\n\u001b[0;32m    <a href='file:///~/AppData/Local/Packages/PythonSoftwareFoundation.Python.3.10_qbz5n2kfra8p0/LocalCache/local-packages/Python310/site-packages/mlxtend/frequent_patterns/apriori.py?line=234'>235</a>\u001b[0m                      \u001b[39m'\u001b[39m\u001b[39mnumber within the interval `(0, 1]`. \u001b[39m\u001b[39m'\u001b[39m\n\u001b[0;32m    <a href='file:///~/AppData/Local/Packages/PythonSoftwareFoundation.Python.3.10_qbz5n2kfra8p0/LocalCache/local-packages/Python310/site-packages/mlxtend/frequent_patterns/apriori.py?line=235'>236</a>\u001b[0m                      \u001b[39m'\u001b[39m\u001b[39mGot \u001b[39m\u001b[39m%s\u001b[39;00m\u001b[39m.\u001b[39m\u001b[39m'\u001b[39m \u001b[39m%\u001b[39m min_support)\n\u001b[1;32m--> <a href='file:///~/AppData/Local/Packages/PythonSoftwareFoundation.Python.3.10_qbz5n2kfra8p0/LocalCache/local-packages/Python310/site-packages/mlxtend/frequent_patterns/apriori.py?line=237'>238</a>\u001b[0m fpc\u001b[39m.\u001b[39;49mvalid_input_check(df)\n\u001b[0;32m    <a href='file:///~/AppData/Local/Packages/PythonSoftwareFoundation.Python.3.10_qbz5n2kfra8p0/LocalCache/local-packages/Python310/site-packages/mlxtend/frequent_patterns/apriori.py?line=239'>240</a>\u001b[0m \u001b[39mif\u001b[39;00m \u001b[39mhasattr\u001b[39m(df, \u001b[39m\"\u001b[39m\u001b[39msparse\u001b[39m\u001b[39m\"\u001b[39m):\n\u001b[0;32m    <a href='file:///~/AppData/Local/Packages/PythonSoftwareFoundation.Python.3.10_qbz5n2kfra8p0/LocalCache/local-packages/Python310/site-packages/mlxtend/frequent_patterns/apriori.py?line=240'>241</a>\u001b[0m     \u001b[39m# DataFrame with SparseArray (pandas >= 0.24)\u001b[39;00m\n\u001b[0;32m    <a href='file:///~/AppData/Local/Packages/PythonSoftwareFoundation.Python.3.10_qbz5n2kfra8p0/LocalCache/local-packages/Python310/site-packages/mlxtend/frequent_patterns/apriori.py?line=241'>242</a>\u001b[0m     \u001b[39mif\u001b[39;00m df\u001b[39m.\u001b[39msize \u001b[39m==\u001b[39m \u001b[39m0\u001b[39m:\n",
      "File \u001b[1;32m~\\AppData\\Local\\Packages\\PythonSoftwareFoundation.Python.3.10_qbz5n2kfra8p0\\LocalCache\\local-packages\\Python310\\site-packages\\mlxtend\\frequent_patterns\\fpcommon.py:116\u001b[0m, in \u001b[0;36mvalid_input_check\u001b[1;34m(df)\u001b[0m\n\u001b[0;32m    <a href='file:///~/AppData/Local/Packages/PythonSoftwareFoundation.Python.3.10_qbz5n2kfra8p0/LocalCache/local-packages/Python310/site-packages/mlxtend/frequent_patterns/fpcommon.py?line=112'>113</a>\u001b[0m val \u001b[39m=\u001b[39m values[\u001b[39mtuple\u001b[39m(loc[\u001b[39m0\u001b[39m] \u001b[39mfor\u001b[39;00m loc \u001b[39min\u001b[39;00m idxs)]\n\u001b[0;32m    <a href='file:///~/AppData/Local/Packages/PythonSoftwareFoundation.Python.3.10_qbz5n2kfra8p0/LocalCache/local-packages/Python310/site-packages/mlxtend/frequent_patterns/fpcommon.py?line=113'>114</a>\u001b[0m s \u001b[39m=\u001b[39m (\u001b[39m'\u001b[39m\u001b[39mThe allowed values for a DataFrame\u001b[39m\u001b[39m'\u001b[39m\n\u001b[0;32m    <a href='file:///~/AppData/Local/Packages/PythonSoftwareFoundation.Python.3.10_qbz5n2kfra8p0/LocalCache/local-packages/Python310/site-packages/mlxtend/frequent_patterns/fpcommon.py?line=114'>115</a>\u001b[0m      \u001b[39m'\u001b[39m\u001b[39m are True, False, 0, 1. Found value \u001b[39m\u001b[39m%s\u001b[39;00m\u001b[39m'\u001b[39m \u001b[39m%\u001b[39m (val))\n\u001b[1;32m--> <a href='file:///~/AppData/Local/Packages/PythonSoftwareFoundation.Python.3.10_qbz5n2kfra8p0/LocalCache/local-packages/Python310/site-packages/mlxtend/frequent_patterns/fpcommon.py?line=115'>116</a>\u001b[0m \u001b[39mraise\u001b[39;00m \u001b[39mValueError\u001b[39;00m(s)\n",
      "\u001b[1;31mValueError\u001b[0m: The allowed values for a DataFrame are True, False, 0, 1. Found value 1371"
     ]
    }
   ],
   "source": [
    "import timeit\n",
    "\n",
    "minsup = 0.1\n",
    "num_runs = 5\n",
    "duration = timeit.Timer(\"find_frequent_itemset(df, minsup)\", globals=locals()).timeit(number = num_runs)\n",
    "avg_duration = duration/num_runs\n",
    "\n",
    "print(find_frequent_itemset(df, minsup).size)\n",
    "\n",
    "print(f'On average it took {avg_duration} seconds')"
   ]
  },
  {
   "cell_type": "code",
   "execution_count": 19,
   "metadata": {},
   "outputs": [
    {
     "data": {
      "text/html": [
       "<div>\n",
       "<style scoped>\n",
       "    .dataframe tbody tr th:only-of-type {\n",
       "        vertical-align: middle;\n",
       "    }\n",
       "\n",
       "    .dataframe tbody tr th {\n",
       "        vertical-align: top;\n",
       "    }\n",
       "\n",
       "    .dataframe thead th {\n",
       "        text-align: right;\n",
       "    }\n",
       "</style>\n",
       "<table border=\"1\" class=\"dataframe\">\n",
       "  <thead>\n",
       "    <tr style=\"text-align: right;\">\n",
       "      <th></th>\n",
       "      <th>support</th>\n",
       "      <th>itemsets</th>\n",
       "    </tr>\n",
       "  </thead>\n",
       "  <tbody>\n",
       "    <tr>\n",
       "      <th>0</th>\n",
       "      <td>0.129657</td>\n",
       "      <td>(20,000 Leagues Under the Sea)</td>\n",
       "    </tr>\n",
       "    <tr>\n",
       "      <th>1</th>\n",
       "      <td>0.129657</td>\n",
       "      <td>(2001: A Space Odyssey)</td>\n",
       "    </tr>\n",
       "    <tr>\n",
       "      <th>2</th>\n",
       "      <td>0.298063</td>\n",
       "      <td>(48 Hrs.)</td>\n",
       "    </tr>\n",
       "    <tr>\n",
       "      <th>3</th>\n",
       "      <td>0.292101</td>\n",
       "      <td>(5 Card Stud)</td>\n",
       "    </tr>\n",
       "    <tr>\n",
       "      <th>4</th>\n",
       "      <td>0.093890</td>\n",
       "      <td>(A Brief History of Time)</td>\n",
       "    </tr>\n",
       "  </tbody>\n",
       "</table>\n",
       "</div>"
      ],
      "text/plain": [
       "    support                        itemsets\n",
       "0  0.129657  (20,000 Leagues Under the Sea)\n",
       "1  0.129657         (2001: A Space Odyssey)\n",
       "2  0.298063                       (48 Hrs.)\n",
       "3  0.292101                   (5 Card Stud)\n",
       "4  0.093890       (A Brief History of Time)"
      ]
     },
     "execution_count": 19,
     "metadata": {},
     "output_type": "execute_result"
    }
   ],
   "source": [
    "frequent_itemset = apriori(df_pivot, min_support=0.07, use_colnames=True)\n",
    "frequent_itemset.head()"
   ]
  },
  {
   "cell_type": "code",
   "execution_count": 9,
   "metadata": {},
   "outputs": [
    {
     "ename": "UnicodeDecodeError",
     "evalue": "'charmap' codec can't decode byte 0x98 in position 862: character maps to <undefined>",
     "output_type": "error",
     "traceback": [
      "\u001b[1;31m---------------------------------------------------------------------------\u001b[0m",
      "\u001b[1;31mUnicodeDecodeError\u001b[0m                        Traceback (most recent call last)",
      "\u001b[1;32md:\\projects\\association_rule_mining\\notebook.ipynb Cell 3'\u001b[0m in \u001b[0;36m<module>\u001b[1;34m\u001b[0m\n\u001b[1;32m----> <a href='vscode-notebook-cell:/d%3A/projects/association_rule_mining/notebook.ipynb#ch0000005?line=0'>1</a>\u001b[0m df \u001b[39m=\u001b[39m load_csv(\u001b[39m\"\u001b[39;49m\u001b[39mdatasets/movies_metadata.csv\u001b[39;49m\u001b[39m\"\u001b[39;49m)\n",
      "\u001b[1;32md:\\projects\\association_rule_mining\\notebook.ipynb Cell 2'\u001b[0m in \u001b[0;36mload_csv\u001b[1;34m(path)\u001b[0m\n\u001b[0;32m      <a href='vscode-notebook-cell:/d%3A/projects/association_rule_mining/notebook.ipynb#ch0000001?line=2'>3</a>\u001b[0m \u001b[39mwith\u001b[39;00m \u001b[39mopen\u001b[39m(os\u001b[39m.\u001b[39mpath\u001b[39m.\u001b[39mjoin(path), \u001b[39m'\u001b[39m\u001b[39mr\u001b[39m\u001b[39m'\u001b[39m) \u001b[39mas\u001b[39;00m file:\n\u001b[0;32m      <a href='vscode-notebook-cell:/d%3A/projects/association_rule_mining/notebook.ipynb#ch0000001?line=3'>4</a>\u001b[0m     reader \u001b[39m=\u001b[39m csv\u001b[39m.\u001b[39mreader(file, delimiter\u001b[39m=\u001b[39m\u001b[39m'\u001b[39m\u001b[39m,\u001b[39m\u001b[39m'\u001b[39m)\n\u001b[1;32m----> <a href='vscode-notebook-cell:/d%3A/projects/association_rule_mining/notebook.ipynb#ch0000001?line=4'>5</a>\u001b[0m     data \u001b[39m=\u001b[39m \u001b[39mlist\u001b[39;49m(reader)\n\u001b[0;32m      <a href='vscode-notebook-cell:/d%3A/projects/association_rule_mining/notebook.ipynb#ch0000001?line=5'>6</a>\u001b[0m     \u001b[39m# data = list(filter(None, data))\u001b[39;00m\n\u001b[0;32m      <a href='vscode-notebook-cell:/d%3A/projects/association_rule_mining/notebook.ipynb#ch0000001?line=7'>8</a>\u001b[0m \u001b[39mfor\u001b[39;00m row \u001b[39min\u001b[39;00m data:\n",
      "File \u001b[1;32mC:\\Program Files\\WindowsApps\\PythonSoftwareFoundation.Python.3.10_3.10.752.0_x64__qbz5n2kfra8p0\\lib\\encodings\\cp1251.py:23\u001b[0m, in \u001b[0;36mIncrementalDecoder.decode\u001b[1;34m(self, input, final)\u001b[0m\n\u001b[0;32m     <a href='file:///c%3A/Program%20Files/WindowsApps/PythonSoftwareFoundation.Python.3.10_3.10.752.0_x64__qbz5n2kfra8p0/lib/encodings/cp1251.py?line=21'>22</a>\u001b[0m \u001b[39mdef\u001b[39;00m \u001b[39mdecode\u001b[39m(\u001b[39mself\u001b[39m, \u001b[39minput\u001b[39m, final\u001b[39m=\u001b[39m\u001b[39mFalse\u001b[39;00m):\n\u001b[1;32m---> <a href='file:///c%3A/Program%20Files/WindowsApps/PythonSoftwareFoundation.Python.3.10_3.10.752.0_x64__qbz5n2kfra8p0/lib/encodings/cp1251.py?line=22'>23</a>\u001b[0m     \u001b[39mreturn\u001b[39;00m codecs\u001b[39m.\u001b[39;49mcharmap_decode(\u001b[39minput\u001b[39;49m,\u001b[39mself\u001b[39;49m\u001b[39m.\u001b[39;49merrors,decoding_table)[\u001b[39m0\u001b[39m]\n",
      "\u001b[1;31mUnicodeDecodeError\u001b[0m: 'charmap' codec can't decode byte 0x98 in position 862: character maps to <undefined>"
     ]
    }
   ],
   "source": [
    "df = load_csv(\"datasets/movies_metadata.csv\")"
   ]
  },
  {
   "cell_type": "code",
   "execution_count": 3,
   "metadata": {},
   "outputs": [],
   "source": [
    "def find_frequent_itemset(data, minsup, mode=\"None\"):\n",
    "    # by passing minsup we mean the number of times in total number\n",
    "    # of transactions the item should be present\n",
    "    frequent_itemsets = apriori(data, min_support=minsup, use_colnames=True)\n",
    "\n",
    "    match mode:\n",
    "        case \"descending-support\":\n",
    "            return frequent_itemsets.sort_values(by=['support'], ascending=False)\n",
    "        case \"itemsets\":\n",
    "            return frequent_itemsets.sort_values(by=['itemsets'], ascending=True)\n",
    "        case _:\n",
    "            return frequent_itemsets"
   ]
  },
  {
   "cell_type": "code",
   "execution_count": 4,
   "metadata": {},
   "outputs": [
    {
     "ename": "UnicodeDecodeError",
     "evalue": "'charmap' codec can't decode byte 0x98 in position 862: character maps to <undefined>",
     "output_type": "error",
     "traceback": [
      "\u001b[1;31m---------------------------------------------------------------------------\u001b[0m",
      "\u001b[1;31mUnicodeDecodeError\u001b[0m                        Traceback (most recent call last)",
      "\u001b[1;32md:\\projects\\association_rule_mining\\notebook.ipynb Cell 4'\u001b[0m in \u001b[0;36m<module>\u001b[1;34m\u001b[0m\n\u001b[1;32m----> <a href='vscode-notebook-cell:/d%3A/projects/association_rule_mining/notebook.ipynb#ch0000003?line=0'>1</a>\u001b[0m df \u001b[39m=\u001b[39m load_csv(\u001b[39m\"\u001b[39;49m\u001b[39mdatasets/movies_metadata.csv\u001b[39;49m\u001b[39m\"\u001b[39;49m)\n\u001b[0;32m      <a href='vscode-notebook-cell:/d%3A/projects/association_rule_mining/notebook.ipynb#ch0000003?line=1'>2</a>\u001b[0m frequent_itemset \u001b[39m=\u001b[39m find_frequent_itemset(df, \u001b[39m0.1\u001b[39m)\n\u001b[0;32m      <a href='vscode-notebook-cell:/d%3A/projects/association_rule_mining/notebook.ipynb#ch0000003?line=2'>3</a>\u001b[0m \u001b[39mprint\u001b[39m(frequent_itemset)\n",
      "\u001b[1;32md:\\projects\\association_rule_mining\\notebook.ipynb Cell 2'\u001b[0m in \u001b[0;36mload_csv\u001b[1;34m(path)\u001b[0m\n\u001b[0;32m      <a href='vscode-notebook-cell:/d%3A/projects/association_rule_mining/notebook.ipynb#ch0000001?line=2'>3</a>\u001b[0m \u001b[39mwith\u001b[39;00m \u001b[39mopen\u001b[39m(os\u001b[39m.\u001b[39mpath\u001b[39m.\u001b[39mjoin(path), \u001b[39m'\u001b[39m\u001b[39mr\u001b[39m\u001b[39m'\u001b[39m) \u001b[39mas\u001b[39;00m file:\n\u001b[0;32m      <a href='vscode-notebook-cell:/d%3A/projects/association_rule_mining/notebook.ipynb#ch0000001?line=3'>4</a>\u001b[0m     reader \u001b[39m=\u001b[39m csv\u001b[39m.\u001b[39mreader(file, delimiter\u001b[39m=\u001b[39m\u001b[39m'\u001b[39m\u001b[39m \u001b[39m\u001b[39m'\u001b[39m)\n\u001b[1;32m----> <a href='vscode-notebook-cell:/d%3A/projects/association_rule_mining/notebook.ipynb#ch0000001?line=4'>5</a>\u001b[0m     data \u001b[39m=\u001b[39m \u001b[39mlist\u001b[39;49m(reader)\n\u001b[0;32m      <a href='vscode-notebook-cell:/d%3A/projects/association_rule_mining/notebook.ipynb#ch0000001?line=5'>6</a>\u001b[0m     \u001b[39m# data = list(filter(None, data))\u001b[39;00m\n\u001b[0;32m      <a href='vscode-notebook-cell:/d%3A/projects/association_rule_mining/notebook.ipynb#ch0000001?line=7'>8</a>\u001b[0m \u001b[39mfor\u001b[39;00m row \u001b[39min\u001b[39;00m data:\n",
      "File \u001b[1;32mC:\\Program Files\\WindowsApps\\PythonSoftwareFoundation.Python.3.10_3.10.752.0_x64__qbz5n2kfra8p0\\lib\\encodings\\cp1251.py:23\u001b[0m, in \u001b[0;36mIncrementalDecoder.decode\u001b[1;34m(self, input, final)\u001b[0m\n\u001b[0;32m     <a href='file:///c%3A/Program%20Files/WindowsApps/PythonSoftwareFoundation.Python.3.10_3.10.752.0_x64__qbz5n2kfra8p0/lib/encodings/cp1251.py?line=21'>22</a>\u001b[0m \u001b[39mdef\u001b[39;00m \u001b[39mdecode\u001b[39m(\u001b[39mself\u001b[39m, \u001b[39minput\u001b[39m, final\u001b[39m=\u001b[39m\u001b[39mFalse\u001b[39;00m):\n\u001b[1;32m---> <a href='file:///c%3A/Program%20Files/WindowsApps/PythonSoftwareFoundation.Python.3.10_3.10.752.0_x64__qbz5n2kfra8p0/lib/encodings/cp1251.py?line=22'>23</a>\u001b[0m     \u001b[39mreturn\u001b[39;00m codecs\u001b[39m.\u001b[39;49mcharmap_decode(\u001b[39minput\u001b[39;49m,\u001b[39mself\u001b[39;49m\u001b[39m.\u001b[39;49merrors,decoding_table)[\u001b[39m0\u001b[39m]\n",
      "\u001b[1;31mUnicodeDecodeError\u001b[0m: 'charmap' codec can't decode byte 0x98 in position 862: character maps to <undefined>"
     ]
    }
   ],
   "source": [
    "df = load_csv(\"datasets/movies_metadata.csv\")\n",
    "frequent_itemset = find_frequent_itemset(df, 0.1)\n",
    "print(frequent_itemset)"
   ]
  },
  {
   "cell_type": "code",
   "execution_count": null,
   "metadata": {},
   "outputs": [],
   "source": []
  }
 ],
 "metadata": {
  "interpreter": {
   "hash": "dcf54b044ca9e8fc45e0b43406de43bea0ad89c58ce62bc925fe193d2238dfa4"
  },
  "kernelspec": {
   "display_name": "Python 3.10.2 64-bit (windows store)",
   "language": "python",
   "name": "python3"
  },
  "language_info": {
   "codemirror_mode": {
    "name": "ipython",
    "version": 3
   },
   "file_extension": ".py",
   "mimetype": "text/x-python",
   "name": "python",
   "nbconvert_exporter": "python",
   "pygments_lexer": "ipython3",
   "version": "3.10.2"
  },
  "orig_nbformat": 4
 },
 "nbformat": 4,
 "nbformat_minor": 2
}
